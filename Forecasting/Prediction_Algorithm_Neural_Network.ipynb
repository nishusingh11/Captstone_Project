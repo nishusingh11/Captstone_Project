{
 "cells": [
  {
   "cell_type": "code",
   "execution_count": 42,
   "id": "5543e530",
   "metadata": {},
   "outputs": [
    {
     "name": "stdout",
     "output_type": "stream",
     "text": [
      "Requirement already satisfied: sklearn in c:\\users\\parul\\anaconda3\\lib\\site-packages (0.0)\n",
      "Requirement already satisfied: scikit-learn in c:\\users\\parul\\anaconda3\\lib\\site-packages (from sklearn) (1.0.2)\n",
      "Requirement already satisfied: scipy>=1.1.0 in c:\\users\\parul\\anaconda3\\lib\\site-packages (from scikit-learn->sklearn) (1.7.3)\n",
      "Requirement already satisfied: threadpoolctl>=2.0.0 in c:\\users\\parul\\anaconda3\\lib\\site-packages (from scikit-learn->sklearn) (2.2.0)\n",
      "Requirement already satisfied: joblib>=0.11 in c:\\users\\parul\\anaconda3\\lib\\site-packages (from scikit-learn->sklearn) (1.1.0)\n",
      "Requirement already satisfied: numpy>=1.14.6 in c:\\users\\parul\\anaconda3\\lib\\site-packages (from scikit-learn->sklearn) (1.20.3)\n",
      "Note: you may need to restart the kernel to use updated packages.\n"
     ]
    }
   ],
   "source": [
    "#conda install basemap\n",
    "#pip install -U matplotlib==3.2\n",
    "#pip install sklearn"
   ]
  },
  {
   "cell_type": "code",
   "execution_count": 20,
   "id": "3651b69b",
   "metadata": {},
   "outputs": [],
   "source": [
    "import os\n",
    "import conda\n",
    "#\"C:\\Users\\parul\\anaconda3\\pkgs\\proj4-5.2.0-ha925a31_1\\Library\\share\\epsg\"\n",
    "os.environ['PROJ_LIB'] = r'C:\\Users\\parul\\anaconda3\\pkgs\\proj4-5.2.0-ha925a31_1\\Library\\share'"
   ]
  },
  {
   "cell_type": "code",
   "execution_count": 21,
   "id": "8e456661",
   "metadata": {},
   "outputs": [],
   "source": [
    "import datetime, mpl_toolkits as mt, matplotlib.pyplot as plt, numpy as np, pandas as pd, time \n",
    "from mpl_toolkits.basemap import Basemap\n",
    "from sklearn.model_selection import train_test_split, GridSearchCV\n",
    "from sklearn.ensemble import RandomForestRegressor\n",
    "from keras.models import Sequential\n",
    "from keras.layers import Dense\n",
    "from keras.wrappers.scikit_learn import KerasClassifier"
   ]
  },
  {
   "cell_type": "code",
   "execution_count": 22,
   "id": "a8f6ee9b",
   "metadata": {},
   "outputs": [],
   "source": [
    "US_data = pd.read_csv(\"US_Data.csv\")\n",
    "CA_data = pd.read_csv(\"CA_Data.csv\")"
   ]
  },
  {
   "cell_type": "code",
   "execution_count": 23,
   "id": "c28b6bd1",
   "metadata": {},
   "outputs": [
    {
     "name": "stdout",
     "output_type": "stream",
     "text": [
      "Index(['Latitude', 'Longitude', 'Depth', 'Magnitude', 'Magnitude_Method',\n",
      "       'NST', 'Azimuthal_Gap', 'D_min', 'RMS_TimeResidual', 'Type',\n",
      "       'Horizontal_Error', 'Depth_Error', 'Magnitude_Error', 'Magnitude_Nst',\n",
      "       'Location_Source', 'Magnitude_Source', 'Region', 'Date', 'Time'],\n",
      "      dtype='object')\n"
     ]
    },
    {
     "data": {
      "text/plain": [
       "Index(['Latitude', 'Longitude', 'Depth', 'Magnitude', 'Magnitude_Method',\n",
       "       'NST', 'Azimuthal_Gap', 'D_min', 'RMS_TimeResidual', 'Type',\n",
       "       'Horizontal_Error', 'Depth_Error', 'Magnitude_Error', 'Magnitude_Nst',\n",
       "       'Location_Source', 'Magnitude_Source', 'Region', 'Date', 'Time'],\n",
       "      dtype='object')"
      ]
     },
     "execution_count": 23,
     "metadata": {},
     "output_type": "execute_result"
    }
   ],
   "source": [
    "print(US_data.columns)\n",
    "CA_data.columns"
   ]
  },
  {
   "cell_type": "code",
   "execution_count": 24,
   "id": "22928c21",
   "metadata": {},
   "outputs": [
    {
     "data": {
      "text/plain": [
       "(100892, 19)"
      ]
     },
     "execution_count": 24,
     "metadata": {},
     "output_type": "execute_result"
    }
   ],
   "source": [
    "US_data.shape"
   ]
  },
  {
   "cell_type": "code",
   "execution_count": 25,
   "id": "f6ba90d2",
   "metadata": {},
   "outputs": [
    {
     "data": {
      "text/html": [
       "<div>\n",
       "<style scoped>\n",
       "    .dataframe tbody tr th:only-of-type {\n",
       "        vertical-align: middle;\n",
       "    }\n",
       "\n",
       "    .dataframe tbody tr th {\n",
       "        vertical-align: top;\n",
       "    }\n",
       "\n",
       "    .dataframe thead th {\n",
       "        text-align: right;\n",
       "    }\n",
       "</style>\n",
       "<table border=\"1\" class=\"dataframe\">\n",
       "  <thead>\n",
       "    <tr style=\"text-align: right;\">\n",
       "      <th></th>\n",
       "      <th>Date</th>\n",
       "      <th>Time</th>\n",
       "      <th>Latitude</th>\n",
       "      <th>Longitude</th>\n",
       "      <th>Depth</th>\n",
       "      <th>Magnitude</th>\n",
       "    </tr>\n",
       "  </thead>\n",
       "  <tbody>\n",
       "    <tr>\n",
       "      <th>0</th>\n",
       "      <td>2023-02-27</td>\n",
       "      <td>22:58:07</td>\n",
       "      <td>19.255000</td>\n",
       "      <td>-155.437667</td>\n",
       "      <td>1.15</td>\n",
       "      <td>2.53</td>\n",
       "    </tr>\n",
       "    <tr>\n",
       "      <th>1</th>\n",
       "      <td>2023-02-27</td>\n",
       "      <td>17:11:05</td>\n",
       "      <td>19.451500</td>\n",
       "      <td>-155.236500</td>\n",
       "      <td>28.35</td>\n",
       "      <td>2.74</td>\n",
       "    </tr>\n",
       "    <tr>\n",
       "      <th>2</th>\n",
       "      <td>2023-02-27</td>\n",
       "      <td>10:34:10</td>\n",
       "      <td>20.076000</td>\n",
       "      <td>-156.165000</td>\n",
       "      <td>42.37</td>\n",
       "      <td>3.17</td>\n",
       "    </tr>\n",
       "    <tr>\n",
       "      <th>3</th>\n",
       "      <td>2023-02-26</td>\n",
       "      <td>07:23:43</td>\n",
       "      <td>19.176333</td>\n",
       "      <td>-155.511500</td>\n",
       "      <td>31.48</td>\n",
       "      <td>2.78</td>\n",
       "    </tr>\n",
       "    <tr>\n",
       "      <th>4</th>\n",
       "      <td>2023-02-25</td>\n",
       "      <td>19:36:35</td>\n",
       "      <td>19.185000</td>\n",
       "      <td>-155.621167</td>\n",
       "      <td>-0.53</td>\n",
       "      <td>2.95</td>\n",
       "    </tr>\n",
       "  </tbody>\n",
       "</table>\n",
       "</div>"
      ],
      "text/plain": [
       "         Date      Time   Latitude   Longitude  Depth  Magnitude\n",
       "0  2023-02-27  22:58:07  19.255000 -155.437667   1.15       2.53\n",
       "1  2023-02-27  17:11:05  19.451500 -155.236500  28.35       2.74\n",
       "2  2023-02-27  10:34:10  20.076000 -156.165000  42.37       3.17\n",
       "3  2023-02-26  07:23:43  19.176333 -155.511500  31.48       2.78\n",
       "4  2023-02-25  19:36:35  19.185000 -155.621167  -0.53       2.95"
      ]
     },
     "execution_count": 25,
     "metadata": {},
     "output_type": "execute_result"
    }
   ],
   "source": [
    "data = US_data[['Date', 'Time', 'Latitude', 'Longitude', 'Depth', 'Magnitude']]\n",
    "data.head()"
   ]
  },
  {
   "cell_type": "markdown",
   "id": "8853900e",
   "metadata": {},
   "source": [
    "Since the data is random, so we need to scale it based on the model inputs. In this, we convert the given date and time to Unix time which is in seconds and a number. This can be easily used as an entry for the network we have built:"
   ]
  },
  {
   "cell_type": "code",
   "execution_count": 26,
   "id": "0b51689d",
   "metadata": {},
   "outputs": [
    {
     "name": "stderr",
     "output_type": "stream",
     "text": [
      "C:\\Users\\parul\\anaconda3\\lib\\site-packages\\ipykernel_launcher.py:11: SettingWithCopyWarning: \n",
      "A value is trying to be set on a copy of a slice from a DataFrame.\n",
      "Try using .loc[row_indexer,col_indexer] = value instead\n",
      "\n",
      "See the caveats in the documentation: https://pandas.pydata.org/pandas-docs/stable/user_guide/indexing.html#returning-a-view-versus-a-copy\n",
      "  # This is added back by InteractiveShellApp.init_path()\n"
     ]
    },
    {
     "data": {
      "text/html": [
       "<div>\n",
       "<style scoped>\n",
       "    .dataframe tbody tr th:only-of-type {\n",
       "        vertical-align: middle;\n",
       "    }\n",
       "\n",
       "    .dataframe tbody tr th {\n",
       "        vertical-align: top;\n",
       "    }\n",
       "\n",
       "    .dataframe thead th {\n",
       "        text-align: right;\n",
       "    }\n",
       "</style>\n",
       "<table border=\"1\" class=\"dataframe\">\n",
       "  <thead>\n",
       "    <tr style=\"text-align: right;\">\n",
       "      <th></th>\n",
       "      <th>Latitude</th>\n",
       "      <th>Longitude</th>\n",
       "      <th>Depth</th>\n",
       "      <th>Magnitude</th>\n",
       "      <th>Timestamp</th>\n",
       "    </tr>\n",
       "  </thead>\n",
       "  <tbody>\n",
       "    <tr>\n",
       "      <th>0</th>\n",
       "      <td>19.255000</td>\n",
       "      <td>-155.437667</td>\n",
       "      <td>1.15</td>\n",
       "      <td>2.53</td>\n",
       "      <td>1.677567e+09</td>\n",
       "    </tr>\n",
       "    <tr>\n",
       "      <th>1</th>\n",
       "      <td>19.451500</td>\n",
       "      <td>-155.236500</td>\n",
       "      <td>28.35</td>\n",
       "      <td>2.74</td>\n",
       "      <td>1.677547e+09</td>\n",
       "    </tr>\n",
       "    <tr>\n",
       "      <th>2</th>\n",
       "      <td>20.076000</td>\n",
       "      <td>-156.165000</td>\n",
       "      <td>42.37</td>\n",
       "      <td>3.17</td>\n",
       "      <td>1.677523e+09</td>\n",
       "    </tr>\n",
       "    <tr>\n",
       "      <th>3</th>\n",
       "      <td>19.176333</td>\n",
       "      <td>-155.511500</td>\n",
       "      <td>31.48</td>\n",
       "      <td>2.78</td>\n",
       "      <td>1.677425e+09</td>\n",
       "    </tr>\n",
       "    <tr>\n",
       "      <th>4</th>\n",
       "      <td>19.185000</td>\n",
       "      <td>-155.621167</td>\n",
       "      <td>-0.53</td>\n",
       "      <td>2.95</td>\n",
       "      <td>1.677383e+09</td>\n",
       "    </tr>\n",
       "  </tbody>\n",
       "</table>\n",
       "</div>"
      ],
      "text/plain": [
       "    Latitude   Longitude  Depth  Magnitude     Timestamp\n",
       "0  19.255000 -155.437667   1.15       2.53  1.677567e+09\n",
       "1  19.451500 -155.236500  28.35       2.74  1.677547e+09\n",
       "2  20.076000 -156.165000  42.37       3.17  1.677523e+09\n",
       "3  19.176333 -155.511500  31.48       2.78  1.677425e+09\n",
       "4  19.185000 -155.621167  -0.53       2.95  1.677383e+09"
      ]
     },
     "execution_count": 26,
     "metadata": {},
     "output_type": "execute_result"
    }
   ],
   "source": [
    "timestamp = []\n",
    "for d, t in zip(data['Date'], data['Time']):\n",
    "    try:\n",
    "        ts = datetime.datetime.strptime(d+' '+t, '%Y-%m-%d %H:%M:%S')\n",
    "        timestamp.append(time.mktime(ts.timetuple()))\n",
    "    except ValueError:\n",
    "        # print('ValueError')\n",
    "        timestamp.append('ValueError')\n",
    "\n",
    "timeStamp = pd.Series(timestamp)\n",
    "data['Timestamp'] = timeStamp.values\n",
    "final_data = data.drop(['Date', 'Time'], axis=1)\n",
    "final_data = final_data[final_data.Timestamp != 'ValueError']\n",
    "final_data.head()"
   ]
  },
  {
   "cell_type": "markdown",
   "id": "8fe1c795",
   "metadata": {},
   "source": [
    "## Data Visualization\n",
    "Now, before we create the earthquake prediction model, let’s visualize the data on a world map that shows a clear representation of where the earthquake frequency will be more:"
   ]
  },
  {
   "cell_type": "code",
   "execution_count": 27,
   "id": "c90e7d3f",
   "metadata": {},
   "outputs": [
    {
     "name": "stderr",
     "output_type": "stream",
     "text": [
      "C:\\Users\\parul\\anaconda3\\lib\\site-packages\\ipykernel_launcher.py:1: MatplotlibDeprecationWarning: \n",
      "The dedent function was deprecated in Matplotlib 3.1 and will be removed in 3.3. Use inspect.cleandoc instead.\n",
      "  \"\"\"Entry point for launching an IPython kernel.\n",
      "C:\\Users\\parul\\anaconda3\\lib\\site-packages\\ipykernel_launcher.py:14: MatplotlibDeprecationWarning: \n",
      "The dedent function was deprecated in Matplotlib 3.1 and will be removed in 3.3. Use inspect.cleandoc instead.\n",
      "  \n"
     ]
    },
    {
     "data": {
      "image/png": "[encoded data removed]",
      "text/plain": [
       "<Figure size 864x720 with 1 Axes>"
      ]
     },
     "metadata": {},
     "output_type": "display_data"
    }
   ],
   "source": [
    "m = Basemap(projection='mill',llcrnrlat=25,urcrnrlat=52, llcrnrlon=-130,urcrnrlon=-65,lat_ts=20,resolution='l')\n",
    "\n",
    "longitudes = data[\"Longitude\"].tolist()\n",
    "latitudes = data[\"Latitude\"].tolist()\n",
    "\n",
    "x,y = m(longitudes,latitudes)\n",
    "\n",
    "fig = plt.figure(figsize=(12,10))\n",
    "plt.title(\"All affected areas\")\n",
    "m.plot(x, y, \"o\", markersize = 2, color = 'blue')\n",
    "m.drawcoastlines()\n",
    "m.fillcontinents(color='coral',lake_color='aqua')\n",
    "m.drawmapboundary()\n",
    "m.drawcountries()\n",
    "m.bluemarble()\n",
    "plt.show()"
   ]
  },
  {
   "cell_type": "markdown",
   "id": "9c3261b5",
   "metadata": {},
   "source": [
    "## Dataset split"
   ]
  },
  {
   "cell_type": "code",
   "execution_count": 28,
   "id": "09f84498",
   "metadata": {},
   "outputs": [
    {
     "name": "stdout",
     "output_type": "stream",
     "text": [
      "(80713, 3) (20179, 3) (80713, 2) (20179, 3)\n"
     ]
    }
   ],
   "source": [
    "X = final_data[['Timestamp', 'Latitude', 'Longitude']]\n",
    "y = final_data[['Magnitude', 'Depth']]\n",
    "\n",
    "\n",
    "X_train, X_test, y_train, y_test = train_test_split(X, y, test_size=0.2, random_state=42)\n",
    "print(X_train.shape, X_test.shape, y_train.shape, X_test.shape)"
   ]
  },
  {
   "cell_type": "markdown",
   "id": "e959e2fb",
   "metadata": {},
   "source": [
    "## Neural Network"
   ]
  },
  {
   "cell_type": "code",
   "execution_count": 12,
   "id": "fdbf28aa",
   "metadata": {},
   "outputs": [],
   "source": [
    "def create_model(neurons, activation, optimizer, loss):\n",
    "    model = Sequential()\n",
    "    model.add(Dense(neurons, activation=activation, input_shape=(3,)))\n",
    "    model.add(Dense(neurons, activation=activation))\n",
    "    model.add(Dense(2, activation='softmax'))\n",
    "    \n",
    "    model.compile(optimizer=optimizer, loss=loss, metrics=['accuracy'])\n",
    "    \n",
    "    return model"
   ]
  },
  {
   "cell_type": "code",
   "execution_count": 14,
   "id": "2330232c",
   "metadata": {},
   "outputs": [
    {
     "name": "stderr",
     "output_type": "stream",
     "text": [
      "C:\\Users\\parul\\anaconda3\\lib\\site-packages\\ipykernel_launcher.py:1: DeprecationWarning: KerasClassifier is deprecated, use Sci-Keras (https://github.com/adriangb/scikeras) instead. See https://www.adriangb.com/scikeras/stable/migration.html for help migrating.\n",
      "  \"\"\"Entry point for launching an IPython kernel.\n"
     ]
    }
   ],
   "source": [
    "model = KerasClassifier(build_fn=create_model, verbose=0)\n",
    "\n",
    "# neurons = [16, 64, 128, 256]\n",
    "neurons = [16]\n",
    "# batch_size = [10, 20, 50, 100]\n",
    "batch_size = [10]\n",
    "epochs = [10]\n",
    "# activation = ['relu', 'tanh', 'sigmoid', 'hard_sigmoid', 'linear', 'exponential']\n",
    "activation = ['sigmoid', 'relu']\n",
    "# optimizer = ['SGD', 'RMSprop', 'Adagrad', 'Adadelta', 'Adam', 'Adamax', 'Nadam']\n",
    "optimizer = ['SGD', 'Adadelta']\n",
    "loss = ['squared_hinge']\n",
    "\n",
    "param_grid = dict(neurons=neurons, batch_size=batch_size, epochs=epochs, activation=activation, optimizer=optimizer, loss=loss)"
   ]
  },
  {
   "cell_type": "code",
   "execution_count": 17,
   "id": "d1bedd14",
   "metadata": {},
   "outputs": [
    {
     "name": "stdout",
     "output_type": "stream",
     "text": [
      "Best: 1.000000 using {'activation': 'sigmoid', 'batch_size': 10, 'epochs': 10, 'loss': 'squared_hinge', 'neurons': 16, 'optimizer': 'SGD'}\n",
      "1.000000 (0.000000) with: {'activation': 'sigmoid', 'batch_size': 10, 'epochs': 10, 'loss': 'squared_hinge', 'neurons': 16, 'optimizer': 'SGD'}\n",
      "0.600000 (0.489898) with: {'activation': 'sigmoid', 'batch_size': 10, 'epochs': 10, 'loss': 'squared_hinge', 'neurons': 16, 'optimizer': 'Adadelta'}\n",
      "0.200000 (0.400000) with: {'activation': 'relu', 'batch_size': 10, 'epochs': 10, 'loss': 'squared_hinge', 'neurons': 16, 'optimizer': 'SGD'}\n",
      "0.600000 (0.489898) with: {'activation': 'relu', 'batch_size': 10, 'epochs': 10, 'loss': 'squared_hinge', 'neurons': 16, 'optimizer': 'Adadelta'}\n"
     ]
    }
   ],
   "source": [
    "grid = GridSearchCV(estimator=model, param_grid=param_grid, n_jobs=-1)\n",
    "grid_result = grid.fit(X_train, y_train)\n",
    "\n",
    "print(\"Best: %f using %s\" % (grid_result.best_score_, grid_result.best_params_))\n",
    "means = grid_result.cv_results_['mean_test_score']\n",
    "stds = grid_result.cv_results_['std_test_score']\n",
    "params = grid_result.cv_results_['params']\n",
    "for mean, stdev, param in zip(means, stds, params):\n",
    "    print(\"%f (%f) with: %r\" % (mean, stdev, param))"
   ]
  },
  {
   "cell_type": "code",
   "execution_count": 18,
   "id": "8b0e74fa",
   "metadata": {},
   "outputs": [
    {
     "name": "stdout",
     "output_type": "stream",
     "text": [
      "Epoch 1/20\n",
      "8072/8072 [==============================] - 13s 2ms/step - loss: 0.6105 - accuracy: 0.7775 - val_loss: 0.6069 - val_accuracy: 0.7801\n",
      "Epoch 2/20\n",
      "8072/8072 [==============================] - 12s 2ms/step - loss: 0.6105 - accuracy: 0.7775 - val_loss: 0.6069 - val_accuracy: 0.7801\n",
      "Epoch 3/20\n",
      "8072/8072 [==============================] - 12s 1ms/step - loss: 0.6105 - accuracy: 0.7775 - val_loss: 0.6069 - val_accuracy: 0.7801\n",
      "Epoch 4/20\n",
      "8072/8072 [==============================] - 13s 2ms/step - loss: 0.6105 - accuracy: 0.7775 - val_loss: 0.6069 - val_accuracy: 0.7801\n",
      "Epoch 5/20\n",
      "8072/8072 [==============================] - 13s 2ms/step - loss: 0.6105 - accuracy: 0.7775 - val_loss: 0.6069 - val_accuracy: 0.7801\n",
      "Epoch 6/20\n",
      "8072/8072 [==============================] - 12s 2ms/step - loss: 0.6105 - accuracy: 0.7775 - val_loss: 0.6069 - val_accuracy: 0.7801\n",
      "Epoch 7/20\n",
      "8072/8072 [==============================] - 13s 2ms/step - loss: 0.6105 - accuracy: 0.7775 - val_loss: 0.6069 - val_accuracy: 0.7801\n",
      "Epoch 8/20\n",
      "8072/8072 [==============================] - 12s 1ms/step - loss: 0.6105 - accuracy: 0.7775 - val_loss: 0.6069 - val_accuracy: 0.7801\n",
      "Epoch 9/20\n",
      "8072/8072 [==============================] - 12s 1ms/step - loss: 0.6105 - accuracy: 0.7775 - val_loss: 0.6069 - val_accuracy: 0.7801\n",
      "Epoch 10/20\n",
      "8072/8072 [==============================] - 12s 2ms/step - loss: 0.6105 - accuracy: 0.7775 - val_loss: 0.6069 - val_accuracy: 0.7801\n",
      "Epoch 11/20\n",
      "8072/8072 [==============================] - 12s 1ms/step - loss: 0.6105 - accuracy: 0.7775 - val_loss: 0.6069 - val_accuracy: 0.7801\n",
      "Epoch 12/20\n",
      "8072/8072 [==============================] - 13s 2ms/step - loss: 0.6105 - accuracy: 0.7775 - val_loss: 0.6069 - val_accuracy: 0.7801\n",
      "Epoch 13/20\n",
      "8072/8072 [==============================] - 13s 2ms/step - loss: 0.6105 - accuracy: 0.7775 - val_loss: 0.6069 - val_accuracy: 0.7801\n",
      "Epoch 14/20\n",
      "8072/8072 [==============================] - 14s 2ms/step - loss: 0.6105 - accuracy: 0.7775 - val_loss: 0.6069 - val_accuracy: 0.7801\n",
      "Epoch 15/20\n",
      "8072/8072 [==============================] - 13s 2ms/step - loss: 0.6105 - accuracy: 0.7775 - val_loss: 0.6069 - val_accuracy: 0.7801\n",
      "Epoch 16/20\n",
      "8072/8072 [==============================] - 13s 2ms/step - loss: 0.6105 - accuracy: 0.7775 - val_loss: 0.6069 - val_accuracy: 0.7801\n",
      "Epoch 17/20\n",
      "8072/8072 [==============================] - 13s 2ms/step - loss: 0.6105 - accuracy: 0.7775 - val_loss: 0.6069 - val_accuracy: 0.7801\n",
      "Epoch 18/20\n",
      "8072/8072 [==============================] - 14s 2ms/step - loss: 0.6105 - accuracy: 0.7775 - val_loss: 0.6069 - val_accuracy: 0.7801\n",
      "Epoch 19/20\n",
      "8072/8072 [==============================] - 13s 2ms/step - loss: 0.6105 - accuracy: 0.7775 - val_loss: 0.6069 - val_accuracy: 0.7801\n",
      "Epoch 20/20\n",
      "8072/8072 [==============================] - 14s 2ms/step - loss: 0.6105 - accuracy: 0.7775 - val_loss: 0.6069 - val_accuracy: 0.7801\n",
      "631/631 [==============================] - 1s 1ms/step - loss: 0.6069 - accuracy: 0.7801\n",
      "Evaluation result on Test Data : Loss = 0.6069099307060242, accuracy = 0.780117928981781\n"
     ]
    }
   ],
   "source": [
    "model = Sequential()\n",
    "model.add(Dense(16, activation='relu', input_shape=(3,)))\n",
    "model.add(Dense(16, activation='relu'))\n",
    "model.add(Dense(2, activation='softmax'))\n",
    "\n",
    "model.compile(optimizer='SGD', loss='squared_hinge', metrics=['accuracy'])\n",
    "model.fit(X_train, y_train, batch_size=10, epochs=20, verbose=1, validation_data=(X_test, y_test))\n",
    "\n",
    "[test_loss, test_acc] = model.evaluate(X_test, y_test)\n",
    "print(\"Evaluation result on Test Data : Loss = {}, accuracy = {}\".format(test_loss, test_acc))"
   ]
  },
  {
   "cell_type": "markdown",
   "id": "adb97c7a",
   "metadata": {},
   "source": [
    "### Random Forest Regressor"
   ]
  },
  {
   "cell_type": "code",
   "execution_count": 29,
   "id": "9173001f",
   "metadata": {},
   "outputs": [
    {
     "data": {
      "text/plain": [
       "array([[  2.677  ,   6.66975],\n",
       "       [  2.954  ,   8.756  ],\n",
       "       [  3.053  , 124.881  ],\n",
       "       ...,\n",
       "       [  2.845  ,  47.524  ],\n",
       "       [  3.215  ,  21.864  ],\n",
       "       [  2.945  ,  69.975  ]])"
      ]
     },
     "execution_count": 29,
     "metadata": {},
     "output_type": "execute_result"
    }
   ],
   "source": [
    "reg = RandomForestRegressor(random_state=42)\n",
    "reg.fit(X_train, y_train)\n",
    "reg.predict(X_test)"
   ]
  },
  {
   "cell_type": "code",
   "execution_count": 30,
   "id": "806fafac",
   "metadata": {},
   "outputs": [
    {
     "data": {
      "text/plain": [
       "0.48414675579466027"
      ]
     },
     "execution_count": 30,
     "metadata": {},
     "output_type": "execute_result"
    }
   ],
   "source": [
    "reg.score(X_test, y_test)"
   ]
  },
  {
   "cell_type": "code",
   "execution_count": 31,
   "id": "2b8d0e0b",
   "metadata": {},
   "outputs": [
    {
     "data": {
      "text/plain": [
       "array([[  2.7032  ,   7.710744],\n",
       "       [  2.9646  ,   8.6568  ],\n",
       "       [  2.9752  , 125.9044  ],\n",
       "       ...,\n",
       "       [  2.8176  ,  47.7538  ],\n",
       "       [  3.2784  ,  20.2618  ],\n",
       "       [  2.9274  ,  69.8882  ]])"
      ]
     },
     "execution_count": 31,
     "metadata": {},
     "output_type": "execute_result"
    }
   ],
   "source": [
    "parameters = {'n_estimators':[10, 20, 50, 100, 200, 500]}\n",
    "\n",
    "grid_obj = GridSearchCV(reg, parameters)\n",
    "grid_fit = grid_obj.fit(X_train, y_train)\n",
    "best_fit = grid_fit.best_estimator_\n",
    "best_fit.predict(X_test)"
   ]
  },
  {
   "cell_type": "code",
   "execution_count": 32,
   "id": "80583076",
   "metadata": {},
   "outputs": [
    {
     "data": {
      "text/plain": [
       "0.4865405678740023"
      ]
     },
     "execution_count": 32,
     "metadata": {},
     "output_type": "execute_result"
    }
   ],
   "source": [
    "best_fit.score(X_test, y_test)"
   ]
  },
  {
   "cell_type": "code",
   "execution_count": null,
   "id": "d73a4de7",
   "metadata": {},
   "outputs": [],
   "source": []
  },
  {
   "cell_type": "code",
   "execution_count": null,
   "id": "04cad448",
   "metadata": {},
   "outputs": [],
   "source": []
  }
 ],
 "metadata": {
  "kernelspec": {
   "display_name": "Python 3",
   "language": "python",
   "name": "python3"
  },
  "language_info": {
   "codemirror_mode": {
    "name": "ipython",
    "version": 3
   },
   "file_extension": ".py",
   "mimetype": "text/x-python",
   "name": "python",
   "nbconvert_exporter": "python",
   "pygments_lexer": "ipython3",
   "version": "3.7.6"
  }
 },
 "nbformat": 4,
 "nbformat_minor": 5
}
